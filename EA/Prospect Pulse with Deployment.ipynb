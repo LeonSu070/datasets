{
 "cells": [
  {
   "cell_type": "code",
   "execution_count": null,
   "id": "e0fcd79a",
   "metadata": {},
   "outputs": [],
   "source": [
    "import pandas as pd\n",
    "import numpy as np\n",
    "import matplotlib.pyplot as plt\n",
    "import seaborn as sns\n",
    "\n",
    "from sklearn.preprocessing import StandardScaler\n",
    "from sklearn.model_selection import train_test_split\n",
    "from sklearn.metrics import accuracy_score, classification_report, confusion_matrix\n",
    "\n",
    "from sklearn.pipeline import make_pipeline\n",
    "from sklearn.ensemble import RandomForestClassifier\n",
    "from sklearn.linear_model import LogisticRegression"
   ]
  },
  {
   "cell_type": "code",
   "execution_count": null,
   "id": "76ec4d13",
   "metadata": {},
   "outputs": [],
   "source": [
    "df = pd.read_csv(\"bank.csv\", delimiter = \";\")\n",
    "df.head()\n",
    "\n",
    "# Can work with bank-full data as well."
   ]
  },
  {
   "cell_type": "code",
   "execution_count": null,
   "id": "21e1db60",
   "metadata": {},
   "outputs": [],
   "source": [
    "df.isna().sum().sum()"
   ]
  },
  {
   "cell_type": "code",
   "execution_count": null,
   "id": "5bcd356d",
   "metadata": {},
   "outputs": [],
   "source": [
    "df.info()"
   ]
  },
  {
   "cell_type": "markdown",
   "id": "f28300ac",
   "metadata": {},
   "source": [
    "<font color = \"red\"> Input variables:\n",
    "\n",
    "bank client data:\n",
    "   - 1 - age (numeric)\n",
    "   - 2 - job : type of job (categorical: \"admin.\",\"unknown\",\"unemployed\",\"management\",\"housemaid\",\"entrepreneur\",\"student\",\n",
    "                                       \"blue-collar\",\"self-employed\",\"retired\",\"technician\",\"services\") \n",
    "   - 3 - marital : marital status (categorical: \"married\",\"divorced\",\"single\"; note: \"divorced\" means divorced or widowed)\n",
    "   - 4 - education (categorical: \"unknown\",\"secondary\",\"primary\",\"tertiary\")\n",
    "   - 5 - default: has credit in default? (binary: \"yes\",\"no\")\n",
    "   - 6 - balance: average yearly balance, in euros (numeric) \n",
    "   - 7 - housing: has housing loan? (binary: \"yes\",\"no\")\n",
    "   - 8 - loan: has personal loan? (binary: \"yes\",\"no\")\n",
    "\n",
    "related with the last contact of the current campaign:\n",
    "   - 9 - contact: contact communication type (categorical: \"unknown\",\"telephone\",\"cellular\") \n",
    "  - 10 - day: last contact day of the month (numeric)\n",
    "  - 11 - month: last contact month of year (categorical: \"jan\", \"feb\", \"mar\", ..., \"nov\", \"dec\")\n",
    "  - 12 - duration: last contact duration, in seconds (numeric)\n",
    "\n",
    "other attributes:\n",
    "  - 13 - campaign: number of contacts performed during this campaign and for this client (numeric, includes last contact)\n",
    "  - 14 - pdays: number of days that passed by after the client was last contacted from a previous campaign (numeric, -1 means client was not previously contacted)\n",
    "  - 15 - previous: number of contacts performed before this campaign and for this client (numeric)\n",
    "  - 16 - poutcome: outcome of the previous marketing campaign (categorical: \"unknown\",\"other\",\"failure\",\"success\")\n",
    "\n",
    "Output variable (desired target):\n",
    "  - 17 - y - has the client subscribed a term deposit? (binary: \"yes\",\"no\")"
   ]
  },
  {
   "cell_type": "markdown",
   "id": "264948c5",
   "metadata": {},
   "source": [
    "<img src=\"https://miro.medium.com/v2/resize:fit:1200/1*hmtbIgxoflflJqMJ_UHwXw.jpeg\" width=800>"
   ]
  },
  {
   "cell_type": "code",
   "execution_count": null,
   "id": "68494096",
   "metadata": {},
   "outputs": [],
   "source": [
    "sns.boxplot(data = df, x = df[\"age\"])"
   ]
  },
  {
   "cell_type": "code",
   "execution_count": null,
   "id": "b8b4eea2",
   "metadata": {},
   "outputs": [],
   "source": [
    "# Dropping unnecessary columns\n",
    "\n",
    "ToDrop = [\"contact\", \"day\", \"month\"]\n",
    "\n",
    "df2 = df.drop(columns = ToDrop)\n",
    "df2.head()"
   ]
  },
  {
   "cell_type": "code",
   "execution_count": null,
   "id": "a2a899bf",
   "metadata": {},
   "outputs": [],
   "source": [
    "df3 = pd.get_dummies(df2, columns = ['job', 'marital', 'education', 'poutcome'])\n",
    "df3.head()"
   ]
  },
  {
   "cell_type": "code",
   "execution_count": null,
   "id": "dc4e16b2",
   "metadata": {},
   "outputs": [],
   "source": [
    "# Convert 'yes'/'no' to True/False for the specified columns\n",
    "columns_to_convert = ['default', 'housing', 'loan', 'y']\n",
    "df3[columns_to_convert] = df3[columns_to_convert].applymap(lambda x: True if x == 'yes' else False)\n",
    "df3.head()"
   ]
  },
  {
   "cell_type": "code",
   "execution_count": null,
   "id": "65d9ec04",
   "metadata": {},
   "outputs": [],
   "source": [
    "# From actual dataframe, take only those records\n",
    "# where the age is less than equal to 70\n",
    "df4 = df3[df3[\"age\"] <= 70]\n",
    "df4.head()"
   ]
  },
  {
   "cell_type": "code",
   "execution_count": null,
   "id": "2c99133b",
   "metadata": {},
   "outputs": [],
   "source": [
    "# Class balancing\n",
    "\n",
    "# Step 1: Take all rows where y is 'yes'\n",
    "df4_yes = df4[df4['y'] == True]\n",
    "\n",
    "# Step 2: Take only 521 rows where y is 'no'\n",
    "df4_no = df4[df4['y'] == False].sample(n=521, random_state=42)\n",
    "\n",
    "# Step 3: Combine both dataframes\n",
    "balanced_df4 = pd.concat([df4_yes, df4_no], axis=0)\n",
    "\n",
    "# Optionally, you might want to shuffle the combined dataframe\n",
    "balanced_df4 = balanced_df4.sample(frac=1, random_state=42).reset_index(drop=True)\n",
    "\n",
    "# Print the shape of the balanced DataFrame\n",
    "print(\"Shape of balanced DataFrame:\", balanced_df4.shape)\n"
   ]
  },
  {
   "cell_type": "code",
   "execution_count": null,
   "id": "275d6824",
   "metadata": {},
   "outputs": [],
   "source": [
    "X = balanced_df4.drop(\"y\", axis = 1)\n",
    "Y = balanced_df4[\"y\"]\n",
    "\n",
    "X_train, X_test, y_train, y_test = train_test_split(X, Y, test_size=0.3, random_state=42, stratify = Y)"
   ]
  },
  {
   "cell_type": "code",
   "execution_count": null,
   "id": "3878ac50",
   "metadata": {},
   "outputs": [],
   "source": [
    "lr = LogisticRegression()\n",
    "\n",
    "pipeline = make_pipeline(StandardScaler(), lr)\n",
    "pipeline.fit(X_train, y_train)  \n",
    "\n",
    "PipelinePredict = pipeline.predict(X_test)\n",
    "print(classification_report(y_test, PipelinePredict))"
   ]
  },
  {
   "cell_type": "code",
   "execution_count": null,
   "id": "59806d71",
   "metadata": {},
   "outputs": [],
   "source": [
    "rfc = RandomForestClassifier()\n",
    "\n",
    "pipeline = make_pipeline(StandardScaler(), rfc)\n",
    "pipeline.fit(X_train, y_train)  \n",
    "\n",
    "PipelinePredict = pipeline.predict(X_test)\n",
    "print(classification_report(y_test, PipelinePredict))"
   ]
  },
  {
   "cell_type": "code",
   "execution_count": null,
   "id": "6f27117d-3791-4333-92d2-2b7701a6e171",
   "metadata": {},
   "outputs": [],
   "source": [
    "!pip install gradio"
   ]
  },
  {
   "cell_type": "code",
   "execution_count": null,
   "id": "d8bca2e7",
   "metadata": {},
   "outputs": [],
   "source": [
    "import gradio as gr\n",
    "\n",
    "def predict(age, default, balance, housing, loan, duration, campaign, pdays, previous, job, marital_status, education_selection, outcome_selection):\n",
    "    # Initialize a list with the first 9 features\n",
    "    combined_input = [age, default, balance, housing, loan, duration, campaign, pdays, previous]\n",
    "\n",
    "    # Convert radio button selections to one-hot encoding\n",
    "    job_vector = [1 if job == j else 0 for j in jobs]\n",
    "    marital_vector = [1 if marital_status == m else 0 for m in marital]\n",
    "    education_vector = [1 if education_selection == e else 0 for e in education]\n",
    "    outcome_vector = [1 if outcome_selection == o else 0 for o in outcome]\n",
    "\n",
    "    # Add the one-hot vectors to the combined input\n",
    "    combined_input.extend(job_vector)\n",
    "    combined_input.extend(marital_vector)\n",
    "    combined_input.extend(education_vector)\n",
    "    combined_input.extend(outcome_vector)\n",
    "\n",
    "    # Debugging: Print the total number of features\n",
    "    # print(\"Basic Features:\", len(combined_input))  # Should be 9\n",
    "    # print(\"Job Vector Length:\", len(job_vector))  # Should be 12\n",
    "    # print(\"Marital Vector Length:\", len(marital_vector))  # Should be 3\n",
    "    # print(\"Education Vector Length:\", len(education_vector))  # Should be 4\n",
    "    # print(\"Outcome Vector Length:\", len(outcome_vector))  # Should be 4\n",
    "\n",
    "    # print(\"Total Features:\", len(combined_input))\n",
    "\n",
    "    # Return the combined input for debugging purposes\n",
    "    #return combined_input\n",
    "\n",
    "    # Convert combined_input to the format expected by your model (e.g., numpy array, DataFrame, etc.)\n",
    "    # For instance, if your model expects a numpy array, you could do:\n",
    "    model_input = np.array([combined_input])\n",
    "\n",
    "    # Make a prediction using your model\n",
    "    prediction = pipeline.predict(model_input)\n",
    "\n",
    "    # Return the prediction\n",
    "    return prediction[0]\n",
    "\n",
    "# Define inputs for columns 0-8\n",
    "inputs = [\n",
    "    \"number\",  # age\n",
    "    \"checkbox\",  # default\n",
    "    \"number\",  # balance\n",
    "    \"checkbox\",  # housing\n",
    "    \"checkbox\",  # loan\n",
    "    \"number\",  # duration\n",
    "    \"number\",  # campaign\n",
    "    \"number\",  # pdays\n",
    "    \"number\",  # previous\n",
    "]\n",
    "\n",
    "# Define options for radio button groups for columns 9-34\n",
    "jobs = [\"admin.\", \"blue-collar\", \"entrepreneur\", \"housemaid\", \"management\", \"retired\", \"self-employed\", \"services\", \"student\", \"technician\", \"unemployed\", \"unknown\"]\n",
    "marital = [\"divorced\", \"married\", \"single\"]\n",
    "education = [\"primary\", \"secondary\", \"tertiary\", \"unknown\"]\n",
    "outcome = [\"failure\", \"other\", \"success\", \"unknown\"]\n",
    "\n",
    "# Extend inputs with radio button groups\n",
    "inputs.extend([gr.Radio(jobs), gr.Radio(marital), gr.Radio(education), gr.Radio(outcome)])\n"
   ]
  },
  {
   "cell_type": "code",
   "execution_count": null,
   "id": "1f14e48d-4f12-4b3c-8dd7-c71948674d63",
   "metadata": {},
   "outputs": [],
   "source": []
  }
 ],
 "metadata": {
  "kernelspec": {
   "display_name": "Python 3 (ipykernel)",
   "language": "python",
   "name": "python3"
  },
  "language_info": {
   "codemirror_mode": {
    "name": "ipython",
    "version": 3
   },
   "file_extension": ".py",
   "mimetype": "text/x-python",
   "name": "python",
   "nbconvert_exporter": "python",
   "pygments_lexer": "ipython3",
   "version": "3.12.7"
  }
 },
 "nbformat": 4,
 "nbformat_minor": 5
}

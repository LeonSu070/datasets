{
  "nbformat": 4,
  "nbformat_minor": 0,
  "metadata": {
    "colab": {
      "provenance": [],
      "gpuType": "T4"
    },
    "kernelspec": {
      "name": "python3",
      "display_name": "Python 3"
    },
    "language_info": {
      "name": "python"
    },
    "accelerator": "GPU"
  },
  "cells": [
    {
      "cell_type": "code",
      "execution_count": null,
      "metadata": {
        "id": "LmasaVpRyag_"
      },
      "outputs": [],
      "source": [
        "import pandas as pd\n",
        "\n",
        "# Load the dataset from the provided URL\n",
        "url = \"https://raw.githubusercontent.com/pranavdubeyX/Datasets/refs/heads/main/Advertising-Sales.csv\"\n",
        "df = pd.read_csv(url)\n",
        "\n",
        "# Display the first few rows of the dataframe\n",
        "df.head()"
      ]
    },
    {
      "cell_type": "code",
      "source": [
        "# Import necessary libraries\n",
        "from sklearn.model_selection import train_test_split\n",
        "from sklearn.preprocessing import StandardScaler\n",
        "from keras.models import Sequential\n",
        "from keras.layers import Dense\n",
        "from keras.utils import to_categorical\n",
        "from keras.optimizers import Adam\n",
        "import matplotlib.pyplot as plt"
      ],
      "metadata": {
        "id": "xT27cMsSzd9C"
      },
      "execution_count": null,
      "outputs": []
    },
    {
      "cell_type": "code",
      "source": [
        "# Preprocess the data\n",
        "\n",
        "df.dropna(inplace=True)\n",
        "\n",
        "# One-hot encode the 'Influencer' column\n",
        "df = pd.get_dummies(df, columns=['Influencer'], drop_first=True)\n",
        "\n",
        "# Define features (X) and target (y)\n",
        "X = df.drop('Sales', axis=1)  # Features: TV, Radio, Social Media, Influencer\n",
        "y = df['Sales']  # Target: Sales\n",
        "\n",
        "# Split the data into training and testing sets\n",
        "X_train, X_test, y_train, y_test = train_test_split(X, y, test_size=0.2, random_state=42)\n",
        "\n",
        "# Standardize the feature data\n",
        "scaler = StandardScaler()\n",
        "X_train = scaler.fit_transform(X_train)\n",
        "X_test = scaler.transform(X_test)\n"
      ],
      "metadata": {
        "id": "lURuPHnZykZS"
      },
      "execution_count": null,
      "outputs": []
    },
    {
      "cell_type": "code",
      "source": [
        "# Build a simple neural network model with fewer layers and units\n",
        "model = Sequential()\n",
        "\n",
        "# Input layer and first hidden layer\n",
        "model.add(Dense(32, input_dim=X_train.shape[1], activation='relu'))  # Single hidden layer with 32 units\n",
        "\n",
        "# Output layer for regression\n",
        "model.add(Dense(1, activation='linear'))  # Linear activation for regression problem\n",
        "\n",
        "# Set the learning rate inside the optimizer and use gradient clipping\n",
        "optimizer = Adam(learning_rate=0.001, clipvalue=1.0)  # Reduced learning rate with gradient clipping\n"
      ],
      "metadata": {
        "id": "xUkp2sXdyoGp"
      },
      "execution_count": null,
      "outputs": []
    },
    {
      "cell_type": "code",
      "source": [
        "# Compile the model with the Adam optimizer\n",
        "model.compile(optimizer=optimizer, loss='mean_squared_error')\n",
        "\n",
        "# Train the model with a smaller batch size and epochs\n",
        "history = model.fit(X_train, y_train, epochs=5, batch_size=8, validation_data=(X_test, y_test))\n"
      ],
      "metadata": {
        "collapsed": true,
        "id": "3zamg7k116TI"
      },
      "execution_count": null,
      "outputs": []
    },
    {
      "cell_type": "code",
      "source": [
        "# Evaluate the model\n",
        "loss = model.evaluate(X_test, y_test)\n",
        "print(f\"Model Loss (Mean Squared Error): {loss}\")"
      ],
      "metadata": {
        "id": "Af3JP0KD2l6s"
      },
      "execution_count": null,
      "outputs": []
    },
    {
      "cell_type": "code",
      "source": [
        "# Plot the training and validation loss during the training process\n",
        "plt.plot(history.history['loss'], label='Training Loss')\n",
        "plt.plot(history.history['val_loss'], label='Validation Loss')\n",
        "plt.legend()\n",
        "plt.title('Training and Validation Loss')\n",
        "plt.xlabel('Epochs')\n",
        "plt.ylabel('Loss')\n",
        "plt.show()"
      ],
      "metadata": {
        "id": "6hIRY7F42xq2"
      },
      "execution_count": null,
      "outputs": []
    }
  ]
}